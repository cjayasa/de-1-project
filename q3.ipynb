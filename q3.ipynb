{
 "cells": [
  {
   "cell_type": "code",
   "execution_count": 1,
   "id": "e0106c01",
   "metadata": {},
   "outputs": [
    {
     "name": "stderr",
     "output_type": "stream",
     "text": [
      "Setting default log level to \""
     ]
    },
    {
     "name": "stdout",
     "output_type": "stream",
     "text": [
      "23/03/15 16:58:53 WARN NativeCodeLoader: Unable to load native-hadoop library for your platform... using builtin-java classes where applicable\n"
     ]
    }
   ],
   "source": [
    "from pyspark.sql import SparkSession\n",
    "\n",
    "spark_session = SparkSession.builder\\\n",
    "    .master(\"spark://192.168.2.235:7077\") \\\n",
    "     .appName(\"group11\")\\\n",
    "     .config(\"spark.dynamicAllocation.enabled\", True)\\\n",
    "     .config(\"spark.dynamicAllocation.shuffleTracking.enabled\",True)\\\n",
    "     .config(\"spark.shuffle.service.enabled\", True)\\\n",
    "     .config(\"spark.dynamicAllocation.executorIdleTimeout\",\"30s\")\\\n",
    "     .config(\"spark.cores.max\", 2)\\\n",
    "     .getOrCreate()\n",
    "\n",
    "# Old API (RDD)\n",
    "spark_context = spark_session.sparkContext"
   ]
  },
  {
   "cell_type": "code",
   "execution_count": 20,
   "id": "c0c1d6a5",
   "metadata": {},
   "outputs": [],
   "source": [
    "loudness = spark_context.textFile('hdfs://192.168.2.235:50000/data/splits/loudness.csv')\n",
    "hotness = spark_context.textFile('hdfs://192.168.2.235:50000/data/splits/song_hotttnesss.csv')\n",
    "names = spark_context.textFile('hdfs://192.168.2.235:50000/data/splits/artist_name.csv')"
   ]
  },
  {
   "cell_type": "code",
   "execution_count": 21,
   "id": "74585333",
   "metadata": {},
   "outputs": [
    {
     "data": {
      "text/plain": [
       "['-9.181',\n",
       " '-8.061',\n",
       " '-6.393',\n",
       " '-27.737',\n",
       " '-13.971',\n",
       " '-18.197',\n",
       " '-10.477',\n",
       " '-5.221',\n",
       " '-8.473',\n",
       " '-9.868']"
      ]
     },
     "execution_count": 21,
     "metadata": {},
     "output_type": "execute_result"
    }
   ],
   "source": [
    "loudness.take(10)"
   ]
  },
  {
   "cell_type": "code",
   "execution_count": 23,
   "id": "250114b5",
   "metadata": {},
   "outputs": [
    {
     "ename": "AttributeError",
     "evalue": "'RDD' object has no attribute 'dropna'",
     "output_type": "error",
     "traceback": [
      "\u001b[0;31m---------------------------------------------------------------------------\u001b[0m",
      "\u001b[0;31mAttributeError\u001b[0m                            Traceback (most recent call last)",
      "Cell \u001b[0;32mIn[23], line 2\u001b[0m\n\u001b[1;32m      1\u001b[0m df_ori \u001b[38;5;241m=\u001b[39m hotness\u001b[38;5;241m.\u001b[39mcartesian(names)\n\u001b[0;32m----> 2\u001b[0m df \u001b[38;5;241m=\u001b[39m \u001b[43mdf_ori\u001b[49m\u001b[38;5;241;43m.\u001b[39;49m\u001b[43mdropna\u001b[49m(subset\u001b[38;5;241m=\u001b[39m[\u001b[38;5;124m'\u001b[39m\u001b[38;5;124mnan\u001b[39m\u001b[38;5;124m'\u001b[39m])\u001b[38;5;241m.\u001b[39mfilter(\u001b[38;5;124m'\u001b[39m\u001b[38;5;124mcol_name != 0\u001b[39m\u001b[38;5;124m'\u001b[39m)\n",
      "\u001b[0;31mAttributeError\u001b[0m: 'RDD' object has no attribute 'dropna'"
     ]
    }
   ],
   "source": [
    "#df_ori = hotness.cartesian(names)\n",
    "#df = df_ori.dropna(subset=['nan']).filter('col_name != 0')"
   ]
  },
  {
   "cell_type": "code",
   "execution_count": 29,
   "id": "42b56522",
   "metadata": {},
   "outputs": [
    {
     "name": "stdout",
     "output_type": "stream",
     "text": [
      "Most occurring artists: \n",
      "1: b'Mario Rosenstock', 13\n",
      "2: b'Phil Collins', 12\n",
      "3: b'The Jackson Southernaires', 12\n",
      "4: b'Aerosmith', 12\n",
      "5: b'Sugar Minott', 12\n",
      "6: b'Line Renaud', 11\n",
      "7: b'Radiohead', 11\n",
      "8: b'Mikey Dread', 11\n",
      "9: b'Nick Cave & The Bad Seeds', 11\n",
      "10: b'Bill & Gloria Gaither', 11\n",
      "\n"
     ]
    }
   ],
   "source": [
    "mapper = names.map(lambda word: (word, 1))\n",
    "name_count = mapper.reduceByKey(lambda x,y : x+y).collect()\n",
    "name_count_sorted = sorted(name_count, key=lambda x:x[1], reverse=True)\n",
    "title = \"Most occurring artists: \\n\"\n",
    "for i in range(10):\n",
    "    title += (f\"{i+1}: {name_count_sorted[i][0]}, {name_count_sorted[i][1]}\" + \"\\n\")\n",
    "print(title)"
   ]
  },
  {
   "cell_type": "code",
   "execution_count": null,
   "id": "12257eac",
   "metadata": {},
   "outputs": [],
   "source": []
  }
 ],
 "metadata": {
  "kernelspec": {
   "display_name": "Python 3 (ipykernel)",
   "language": "python",
   "name": "python3"
  },
  "language_info": {
   "codemirror_mode": {
    "name": "ipython",
    "version": 3
   },
   "file_extension": ".py",
   "mimetype": "text/x-python",
   "name": "python",
   "nbconvert_exporter": "python",
   "pygments_lexer": "ipython3",
   "version": "3.10.6"
  }
 },
 "nbformat": 4,
 "nbformat_minor": 5
}
