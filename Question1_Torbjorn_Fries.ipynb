{
 "cells": [
  {
   "cell_type": "code",
   "execution_count": 1,
   "id": "5fcf023a",
   "metadata": {},
   "outputs": [
    {
     "name": "stderr",
     "output_type": "stream",
     "text": [
      "Setting default log level to \""
     ]
    },
    {
     "name": "stdout",
     "output_type": "stream",
     "text": [
      "23/03/15 17:07:07 WARN NativeCodeLoader: Unable to load native-hadoop library for your platform... using builtin-java classes where applicable\n"
     ]
    }
   ],
   "source": [
    "from pyspark.sql import SparkSession\n",
    "\n",
    "spark_session = SparkSession.builder\\\n",
    "    .master(\"spark://192.168.2.235:7077\") \\\n",
    "     .appName(\"group11\")\\\n",
    "     .config(\"spark.dynamicAllocation.enabled\", True)\\\n",
    "     .config(\"spark.dynamicAllocation.shuffleTracking.enabled\",True)\\\n",
    "     .config(\"spark.shuffle.service.enabled\", True)\\\n",
    "     .config(\"spark.dynamicAllocation.executorIdleTimeout\",\"30s\")\\\n",
    "     .config(\"spark.cores.max\", 2)\\\n",
    "     .getOrCreate()\n",
    "\n",
    "# Old API (RDD)\n",
    "spark_context = spark_session.sparkContext"
   ]
  },
  {
   "cell_type": "code",
   "execution_count": 22,
   "id": "b80f4671",
   "metadata": {},
   "outputs": [],
   "source": [
    "import pandas as pd\n",
    "import matplotlib.pyplot as plt\n",
    "hotnesst = spark_context.textFile('hdfs://192.168.2.235:50000/data/splits/song_hotttnesss.csv')\n",
    "namest = spark_context.textFile('hdfs://192.168.2.235:50000/data/splits/artist_name.csv')"
   ]
  },
  {
   "cell_type": "code",
   "execution_count": 28,
   "id": "9bf1d104",
   "metadata": {},
   "outputs": [
    {
     "name": "stdout",
     "output_type": "stream",
     "text": [
      "<class 'pandas.core.frame.DataFrame'>\n",
      "<class 'pandas.core.frame.DataFrame'>\n"
     ]
    }
   ],
   "source": [
    "#df = hotness.join(names)\n",
    "\"\"\"\n",
    "df = pd.concat([hotness, names], axis=1)\n",
    "df.dropna(inplace=True)\n",
    "dfs = df.sort_values(by='nan', ascending=False)\n",
    "print(dfs.head())\n",
    "\"\"\"\n",
    "hotnes = hotnesst.collect()\n",
    "name = namest.collect()\n",
    "\n",
    "hottness = pd.DataFrame(hotnes)\n",
    "names = pd.DataFrame(name)\n",
    "\n",
    "print(type(hottness))\n",
    "print(type(names))"
   ]
  },
  {
   "cell_type": "code",
   "execution_count": 46,
   "id": "a9b2eb76",
   "metadata": {},
   "outputs": [
    {
     "name": "stdout",
     "output_type": "stream",
     "text": [
      "         value             artist\n",
      "4479  1.000000           b'B.o.B'\n",
      "2200  1.000000    b'Led Zeppelin'\n",
      "3889  0.997758  b'Donny Hathaway'\n",
      "1748  0.984347      b'Nickelback'\n",
      "8384  0.979837        b'Maroon 5'\n"
     ]
    }
   ],
   "source": [
    "df = pd.concat([hottness, names], axis=1)\n",
    "df.columns = ['value', 'artist']\n",
    "df['value'] = pd.to_numeric(df['value'], errors='coerce')\n",
    "df = df.dropna(subset=['value'])\n",
    "dfs = df.sort_values(by= 'value', ascending=False)\n",
    "print(dfs.head())"
   ]
  },
  {
   "cell_type": "code",
   "execution_count": null,
   "id": "ba3d3d2c",
   "metadata": {},
   "outputs": [],
   "source": []
  }
 ],
 "metadata": {
  "kernelspec": {
   "display_name": "Python 3 (ipykernel)",
   "language": "python",
   "name": "python3"
  },
  "language_info": {
   "codemirror_mode": {
    "name": "ipython",
    "version": 3
   },
   "file_extension": ".py",
   "mimetype": "text/x-python",
   "name": "python",
   "nbconvert_exporter": "python",
   "pygments_lexer": "ipython3",
   "version": "3.10.6"
  }
 },
 "nbformat": 4,
 "nbformat_minor": 5
}
