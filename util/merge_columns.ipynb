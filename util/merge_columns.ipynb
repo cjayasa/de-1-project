{
 "cells": [
  {
   "cell_type": "code",
   "execution_count": 15,
   "id": "7699707d",
   "metadata": {},
   "outputs": [],
   "source": [
    "import pandas as pd\n",
    "\n",
    "df_list = []\n",
    "csv_list = ['analysis_sample_rate', 'artist_7digitalid', 'artist_familiarity', 'artist_hotttnesss', 'artist_id', 'artist_latitude', 'artist_location', 'artist_longitude', 'artist_mbid', 'artist_mbtags', 'artist_mbtags_count', 'artist_name', 'artist_playmeid', 'artist_terms', 'artist_terms_freq', 'artist_terms_weight', 'audio_md5', 'bars_confidence', 'bars_start', 'beats_confidence', 'beats_start', 'danceability', 'duration', 'end_of_fade_in', 'energy', 'key', 'key_confidence', 'loudness', 'mode', 'mode_confidence', 'release', 'release_7digitalid', 'sections_confidence', 'sections_start', 'segments_confidence', 'segments_loudness_max', 'segments_loudness_max_time', 'segments_loudness_start', 'segments_pitches', 'segments_start', 'segments_timbre', 'similar_artists', 'song_hotttnesss', 'song_id', 'start_of_fade_out', 'tatums_confidence', 'tatums_start', 'tempo', 'time_signature', 'time_signature_confidence', 'title', 'track_7digitalid', 'track_id', 'year']\n",
    "\n",
    "for item in csv_list:\n",
    "    df_list.append(pd.read_csv('/home/ubuntu/de-1-project/data/splits/' + item + '.csv', header=None))\n",
    "\n",
    "#df_1_unicode = df1.applymap(lambda x: x[2:-1])\n",
    "\n",
    "df_combined = pd.DataFrame()\n",
    "col_name = ''\n",
    "for i in range(len(df_list)):\n",
    "    col_name = 'Column ' + str(i)\n",
    "    df_combined[col_name] = df_list[i][0]\n",
    "\n",
    "df_combined.columns = csv_list\n",
    "\n",
    "df_combined.to_csv('combined.csv', index=False)"
   ]
  },
  {
   "cell_type": "code",
   "execution_count": null,
   "id": "4ffe3658",
   "metadata": {},
   "outputs": [],
   "source": []
  }
 ],
 "metadata": {
  "kernelspec": {
   "display_name": "Python 3 (ipykernel)",
   "language": "python",
   "name": "python3"
  },
  "language_info": {
   "codemirror_mode": {
    "name": "ipython",
    "version": 3
   },
   "file_extension": ".py",
   "mimetype": "text/x-python",
   "name": "python",
   "nbconvert_exporter": "python",
   "pygments_lexer": "ipython3",
   "version": "3.10.6"
  }
 },
 "nbformat": 4,
 "nbformat_minor": 5
}
